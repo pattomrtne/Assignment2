{
  "cells": [
    {
      "cell_type": "markdown",
      "id": "7f79baf9",
      "metadata": {
        "id": "7f79baf9"
      },
      "source": [
        "# ADS 509 Assignment 2.1: Tokenization, Normalization, Descriptive Statistics\n",
        "\n",
        "This notebook holds Assignment 2.1 for Module 2 in ADS 509, Applied Text Mining. Work through this notebook, writing code and answering questions where required.\n",
        "\n",
        "In the previous assignment you pulled lyrics data on two artists. In this assignment we explore this data set and a pull from the now-defunct Twitter API for the artists Cher and Robyn.  If, for some reason, you did not complete that previous assignment, data to use for this assignment can be found in the assignment materials section of Canvas.\n",
        "\n",
        "This assignment asks you to write a short function to calculate some descriptive statistics on a piece of text. Then you are asked to find some interesting and unique statistics on your corpora.\n"
      ]
    },
    {
      "cell_type": "markdown",
      "id": "aae8e2e1",
      "metadata": {
        "id": "aae8e2e1"
      },
      "source": [
        "## General Assignment Instructions\n",
        "\n",
        "These instructions are included in every assignment, to remind you of the coding standards for the class. Feel free to delete this cell after reading it.\n",
        "\n",
        "One sign of mature code is conforming to a style guide. We recommend the [Google Python Style Guide](https://google.github.io/styleguide/pyguide.html). If you use a different style guide, please include a cell with a link.\n",
        "\n",
        "Your code should be relatively easy-to-read, sensibly commented, and clean. Writing code is a messy process, so please be sure to edit your final submission. Remove any cells that are not needed or parts of cells that contain unnecessary code. Remove inessential `import` statements and make sure that all such statements are moved into the designated cell.\n",
        "\n",
        "Make use of non-code cells for written commentary. These cells should be grammatical and clearly written. In some of these cells you will have questions to answer. The questions will be marked by a \"Q:\" and will have a corresponding \"A:\" spot for you. *Make sure to answer every question marked with a `Q:` for full credit.*\n"
      ]
    },
    {
      "cell_type": "code",
      "execution_count": 49,
      "id": "e2d096b7",
      "metadata": {
        "id": "e2d096b7"
      },
      "outputs": [],
      "source": [
        "import os\n",
        "import re\n",
        "import emoji\n",
        "import pandas as pd\n",
        "import numpy as np\n",
        "\n",
        "from collections import Counter, defaultdict\n",
        "from nltk.corpus import stopwords\n",
        "from string import punctuation\n",
        "\n",
        "sw = stopwords.words(\"english\")"
      ]
    },
    {
      "cell_type": "code",
      "execution_count": null,
      "id": "6b555ab2",
      "metadata": {
        "id": "6b555ab2"
      },
      "outputs": [],
      "source": [
        "# Add any additional import statements you need here\n",
        "import matplotlib.pyplot as plt"
      ]
    },
    {
      "cell_type": "code",
      "execution_count": 6,
      "id": "923b5a86",
      "metadata": {
        "id": "923b5a86"
      },
      "outputs": [],
      "source": [
        "# change `data_location` to the location of the folder on your machine.\n",
        "data_location = \"M1 Results/\"\n",
        "\n",
        "# These subfolders should still work if you correctly stored the\n",
        "# data from the Module 1 assignment\n",
        "twitter_folder = \"twitter/\"\n",
        "lyrics_folder = \"lyrics/\""
      ]
    },
    {
      "cell_type": "code",
      "execution_count": 31,
      "id": "06522af9",
      "metadata": {
        "id": "06522af9"
      },
      "outputs": [],
      "source": [
        "def descriptive_stats(tokens, num_tokens = 5, verbose=True) :\n",
        "    \"\"\"\n",
        "        Given a list of tokens, print number of tokens, number of unique tokens,\n",
        "        number of characters, lexical diversity (https://en.wikipedia.org/wiki/Lexical_diversity),\n",
        "        and num_tokens most common tokens. Return a list with the number of tokens, number\n",
        "        of unique tokens, lexical diversity, and number of characters.\n",
        "\n",
        "    \"\"\"\n",
        "\n",
        "    # Fill in the correct values here.\n",
        "    total_tokens = len(tokens)\n",
        "    num_unique_tokens = len(set(tokens))\n",
        "    num_characters = sum(len(token) for token in tokens)\n",
        "    lexical_diversity = num_unique_tokens / total_tokens if total_tokens > 0 else 0\n",
        "\n",
        "    if verbose:\n",
        "        print(f\"There are {total_tokens} tokens in the data.\")\n",
        "        print(f\"There are {num_unique_tokens} unique tokens in the data.\")\n",
        "        print(f\"There are {num_characters} characters in the data.\")\n",
        "        print(f\"The lexical diversity is {lexical_diversity:.3f} in the data.\")\n",
        "        # print the five most common tokens\n",
        "        print(f\"The {num_tokens} most common tokens are:\")\n",
        "        for token, freq in Counter(tokens).most_common(num_tokens):\n",
        "            print(f\"'{token}': {freq}\")\n",
        "\n",
        "    return([total_tokens, num_unique_tokens,\n",
        "            lexical_diversity,\n",
        "            num_characters])\n",
        ""
      ]
    },
    {
      "cell_type": "code",
      "execution_count": 32,
      "id": "59dcf058",
      "metadata": {
        "colab": {
          "base_uri": "https://localhost:8080/"
        },
        "id": "59dcf058",
        "outputId": "58e3ea3e-5d81-4267-9844-c1530017c7ff"
      },
      "outputs": [
        {
          "output_type": "stream",
          "name": "stdout",
          "text": [
            "There are 13 tokens in the data.\n",
            "There are 9 unique tokens in the data.\n",
            "There are 55 characters in the data.\n",
            "The lexical diversity is 0.692 in the data.\n",
            "The 5 most common tokens are:\n",
            "'text': 3\n",
            "'here': 2\n",
            "'example': 2\n",
            "'is': 1\n",
            "'some': 1\n"
          ]
        }
      ],
      "source": [
        "text = \"\"\"here is some example text with other example text here in this text\"\"\".split()\n",
        "assert(descriptive_stats(text, verbose=True)[0] == 13)\n",
        "assert(descriptive_stats(text, verbose=False)[1] == 9)\n",
        "assert(abs(descriptive_stats(text, verbose=False)[2] - 0.69) < 0.02)\n",
        "assert(descriptive_stats(text, verbose=False)[3] == 55)\n"
      ]
    },
    {
      "cell_type": "markdown",
      "id": "d2e7e1a2",
      "metadata": {
        "id": "d2e7e1a2"
      },
      "source": [
        "Q: Why is it beneficial to use assertion statements in your code?\n",
        "\n",
        "A: Assertion statements are beneficial because they help check to see that the code is working as expected. If something isn't right, they stop the program and show an error which helps for detecting bugs."
      ]
    },
    {
      "cell_type": "markdown",
      "id": "9d3bf93e",
      "metadata": {
        "id": "9d3bf93e"
      },
      "source": [
        "## Data Input\n",
        "\n",
        "Now read in each of the corpora. For the lyrics data, it may be convenient to store the entire contents of the file to make it easier to inspect the titles individually, as you'll do in the last part of the assignment. In the solution, I stored the lyrics data in a dictionary with two dimensions of keys: artist and song. The value was the file contents. A data frame would work equally well.\n",
        "\n",
        "For the Twitter data, we only need the description field for this assignment. Feel free all the descriptions read it into a data structure. In the solution, I stored the descriptions as a dictionary of lists, with the key being the artist.\n",
        "\n",
        "\n"
      ]
    },
    {
      "cell_type": "code",
      "source": [
        "twitter_folder = os.path.join(data_location, twitter_folder)\n",
        "lyrics_folder = os.path.join(data_location, lyrics_folder)"
      ],
      "metadata": {
        "id": "uF0UEPM2MFEo"
      },
      "id": "uF0UEPM2MFEo",
      "execution_count": 14,
      "outputs": []
    },
    {
      "cell_type": "code",
      "execution_count": 15,
      "id": "37d70801",
      "metadata": {
        "id": "37d70801"
      },
      "outputs": [],
      "source": [
        "# Read in the lyrics data\n",
        "lyrics_data = {}\n",
        "\n",
        "for artist in os.listdir(lyrics_folder):\n",
        "    artist_path = os.path.join(lyrics_folder, artist)\n",
        "    if os.path.isdir(artist_path):\n",
        "        lyrics_data[artist] = {}\n",
        "        for song_file in os.listdir(artist_path):\n",
        "            if song_file.endswith(\".txt\"):\n",
        "                with open(os.path.join(artist_path, song_file), 'r', encoding='utf-8') as f:\n",
        "                    content = f.read()\n",
        "                    song_title = song_file.replace(\".txt\", \"\")\n",
        "                    lyrics_data[artist][song_title] = content"
      ]
    },
    {
      "cell_type": "code",
      "source": [
        "print(lyrics_data.keys())"
      ],
      "metadata": {
        "colab": {
          "base_uri": "https://localhost:8080/"
        },
        "id": "-AiIgKwYMTC4",
        "outputId": "4bbd3f0a-da97-4af7-c93a-c70896e429cf"
      },
      "id": "-AiIgKwYMTC4",
      "execution_count": 16,
      "outputs": [
        {
          "output_type": "stream",
          "name": "stdout",
          "text": [
            "dict_keys(['cher', 'robyn'])\n"
          ]
        }
      ]
    },
    {
      "cell_type": "code",
      "execution_count": 19,
      "id": "debcac5a",
      "metadata": {
        "id": "debcac5a"
      },
      "outputs": [],
      "source": [
        "# Read in the twitter data\n",
        "twitter_data = {}\n",
        "\n",
        "for file in os.listdir(twitter_folder):\n",
        "    if file.endswith(\"_followers_data.txt\"):\n",
        "        artist = file.split(\"_\")[0]  # e.g., 'cher'\n",
        "        path = os.path.join(twitter_folder, file)\n",
        "\n",
        "        # Read TSV, skipping any bad rows\n",
        "        df = pd.read_csv(path, sep=\"\\t\", encoding='utf-8', on_bad_lines='skip')\n",
        "\n",
        "        # Extract non-empty descriptions\n",
        "        descriptions = df['description'].dropna()\n",
        "        descriptions = [desc for desc in descriptions if isinstance(desc, str) and desc.strip() != \"\"]\n",
        "\n",
        "        twitter_data[artist] = descriptions"
      ]
    },
    {
      "cell_type": "markdown",
      "id": "6a5f3b12",
      "metadata": {
        "id": "6a5f3b12"
      },
      "source": [
        "## Data Cleaning\n",
        "\n",
        "Now clean and tokenize your data. Remove punctuation chacters (available in the `punctuation` object in the `string` library), split on whitespace, fold to lowercase, and remove stopwords. Store your cleaned data, which must be accessible as an interable for `descriptive_stats`, in new objects or in new columns in your data frame.\n",
        "\n"
      ]
    },
    {
      "cell_type": "code",
      "execution_count": 21,
      "id": "71c73d86",
      "metadata": {
        "id": "71c73d86"
      },
      "outputs": [],
      "source": [
        "punctuation = set(punctuation) # speeds up comparison"
      ]
    },
    {
      "cell_type": "code",
      "source": [
        "def clean_and_tokenize(text):\n",
        "    text = text.lower()  # lowercase\n",
        "    text = re.sub(rf\"[{re.escape(''.join(punctuation))}]\", \"\", text)  # remove punctuation\n",
        "    tokens = text.split()  # split on whitespace\n",
        "    tokens = [word for word in tokens if word not in sw]  # remove stopwords\n",
        "    return tokens"
      ],
      "metadata": {
        "id": "XsTUNuuzN6Id"
      },
      "id": "XsTUNuuzN6Id",
      "execution_count": 24,
      "outputs": []
    },
    {
      "cell_type": "code",
      "execution_count": 25,
      "id": "b327033a",
      "metadata": {
        "id": "b327033a"
      },
      "outputs": [],
      "source": [
        "# create your clean twitter data here\n",
        "clean_twitter_data = {}\n",
        "\n",
        "for artist, descriptions in twitter_data.items():\n",
        "    clean_twitter_data[artist] = []\n",
        "    for desc in descriptions:\n",
        "        tokens = clean_and_tokenize(desc)\n",
        "        clean_twitter_data[artist].append(tokens)"
      ]
    },
    {
      "cell_type": "code",
      "execution_count": 26,
      "id": "e0f22e10",
      "metadata": {
        "id": "e0f22e10"
      },
      "outputs": [],
      "source": [
        "# create your clean lyrics data here\n",
        "clean_lyrics_data = {}\n",
        "\n",
        "for artist, songs in lyrics_data.items():\n",
        "    clean_lyrics_data[artist] = {}\n",
        "    for song_title, lyrics in songs.items():\n",
        "        tokens = clean_and_tokenize(lyrics)\n",
        "        clean_lyrics_data[artist][song_title] = tokens"
      ]
    },
    {
      "cell_type": "markdown",
      "id": "f2dd0179",
      "metadata": {
        "id": "f2dd0179"
      },
      "source": [
        "## Basic Descriptive Statistics\n",
        "\n",
        "Call your `descriptive_stats` function on both your lyrics data and your twitter data and for both artists (four total calls)."
      ]
    },
    {
      "cell_type": "code",
      "execution_count": 34,
      "id": "f0bbedd9",
      "metadata": {
        "colab": {
          "base_uri": "https://localhost:8080/"
        },
        "id": "f0bbedd9",
        "outputId": "83c8a00a-06f5-4b22-f2d4-a8f59a6e5b8b"
      },
      "outputs": [
        {
          "output_type": "stream",
          "name": "stdout",
          "text": [
            "Cher - Twitter Descriptions\n",
            "There are 16148900 tokens in the data.\n",
            "There are 1697994 unique tokens in the data.\n",
            "There are 96043593 characters in the data.\n",
            "The lexical diversity is 0.105 in the data.\n",
            "The 5 most common tokens are:\n",
            "'love': 214529\n",
            "'im': 139037\n",
            "'life': 122900\n",
            "'music': 88168\n",
            "'de': 73277\n",
            "\n",
            "Cher - Lyrics\n",
            "There are 35916 tokens in the data.\n",
            "There are 3703 unique tokens in the data.\n",
            "There are 172634 characters in the data.\n",
            "The lexical diversity is 0.103 in the data.\n",
            "The 5 most common tokens are:\n",
            "'love': 1004\n",
            "'im': 513\n",
            "'know': 486\n",
            "'dont': 440\n",
            "'youre': 333\n",
            "\n",
            "Robyn - Twitter Descriptions\n",
            "There are 1538163 tokens in the data.\n",
            "There are 271325 unique tokens in the data.\n",
            "There are 9397180 characters in the data.\n",
            "The lexical diversity is 0.176 in the data.\n",
            "The 5 most common tokens are:\n",
            "'music': 15160\n",
            "'love': 11683\n",
            "'im': 9052\n",
            "'och': 7922\n",
            "'life': 7387\n",
            "\n",
            "Robyn - Lyrics\n",
            "There are 15227 tokens in the data.\n",
            "There are 2156 unique tokens in the data.\n",
            "There are 73787 characters in the data.\n",
            "The lexical diversity is 0.142 in the data.\n",
            "The 5 most common tokens are:\n",
            "'know': 308\n",
            "'dont': 301\n",
            "'im': 299\n",
            "'love': 275\n",
            "'got': 251\n"
          ]
        },
        {
          "output_type": "execute_result",
          "data": {
            "text/plain": [
              "[15227, 2156, 0.14159059565245943, 73787]"
            ]
          },
          "metadata": {},
          "execution_count": 34
        }
      ],
      "source": [
        "# Cher - Twitter\n",
        "cher_twitter_tokens = [token for desc in clean_twitter_data[\"cher\"] for token in desc]\n",
        "print(\"Cher - Twitter Descriptions\")\n",
        "descriptive_stats(cher_twitter_tokens, num_tokens=5, verbose=True)\n",
        "\n",
        "# Cher - Lyrics\n",
        "cher_lyrics_tokens = []\n",
        "for tokens in clean_lyrics_data[\"cher\"].values():\n",
        "    cher_lyrics_tokens.extend(tokens)\n",
        "print(\"\\nCher - Lyrics\")\n",
        "descriptive_stats(cher_lyrics_tokens, num_tokens=5, verbose=True)\n",
        "\n",
        "# Robyn - Twitter\n",
        "robyn_twitter_tokens = [token for desc in clean_twitter_data[\"robynkonichiwa\"] for token in desc]\n",
        "print(\"\\nRobyn - Twitter Descriptions\")\n",
        "descriptive_stats(robyn_twitter_tokens, num_tokens=5, verbose=True)\n",
        "\n",
        "# Robyn - Lyrics\n",
        "robyn_lyrics_tokens = []\n",
        "for tokens in clean_lyrics_data[\"robyn\"].values():\n",
        "    robyn_lyrics_tokens.extend(tokens)\n",
        "print(\"\\nRobyn - Lyrics\")\n",
        "descriptive_stats(robyn_lyrics_tokens, num_tokens=5, verbose=True)"
      ]
    },
    {
      "cell_type": "markdown",
      "id": "46294409",
      "metadata": {
        "id": "46294409"
      },
      "source": [
        "Q: How do you think the \"top 5 words\" would be different if we left stopwords in the data?\n",
        "\n",
        "A:\n",
        "\n",
        "If we left stopwords in the data, the top 5 most common words would likely include more generic words such as \"the,\" \"and,\" \"is,\" \"to,\" \"you,\" \"I,\" etc. These words appear very often in natural language but don't carry as much meaning as words like \"love\" or \"music.\"\n",
        "\n",
        "Q: What were your prior beliefs about the lexical diversity between the artists? Does the difference (or lack thereof) in lexical diversity between the artists conform to your prior beliefs?\n",
        "\n",
        "A:\n",
        "\n",
        "Initially, I didn’t have strong expectations about lexical diversity, but I assumed that both artists would have similar levels since they are both pop musicians with broad audiences. However, the results show that Robyn’s lyrics and Twitter fans use a more diverse vocabulary compared to Cher’s."
      ]
    },
    {
      "cell_type": "markdown",
      "id": "4d4e1ac1",
      "metadata": {
        "id": "4d4e1ac1"
      },
      "source": [
        "\n",
        "## Specialty Statistics\n",
        "\n",
        "The descriptive statistics we have calculated are quite generic. You will now calculate a handful of statistics tailored to these data.\n",
        "\n",
        "1. Ten most common emojis by artist in the twitter descriptions.\n",
        "1. Ten most common hashtags by artist in the twitter descriptions.\n",
        "1. Five most common words in song titles by artist.\n",
        "1. For each artist, a histogram of song lengths (in terms of number of tokens)\n",
        "\n",
        "We can use the `emoji` library to help us identify emojis and you have been given a function to help you.\n"
      ]
    },
    {
      "cell_type": "code",
      "execution_count": 35,
      "id": "753a5a3e",
      "metadata": {
        "id": "753a5a3e"
      },
      "outputs": [],
      "source": [
        "assert(emoji.is_emoji(\"❤️\"))\n",
        "assert(not emoji.is_emoji(\":-)\"))"
      ]
    },
    {
      "cell_type": "markdown",
      "id": "986fc4c0",
      "metadata": {
        "id": "986fc4c0"
      },
      "source": [
        "### Emojis 😁\n",
        "\n",
        "What are the ten most common emojis by artist in the twitter descriptions?\n"
      ]
    },
    {
      "cell_type": "code",
      "execution_count": 46,
      "id": "269cd433",
      "metadata": {
        "colab": {
          "base_uri": "https://localhost:8080/"
        },
        "id": "269cd433",
        "outputId": "c7af32e2-67f5-460c-dca3-d2519f230b14"
      },
      "outputs": [
        {
          "output_type": "stream",
          "name": "stdout",
          "text": [
            "{'robynkonichiwa': [('❤', 4808), ('🌈', 4702), ('🏳', 3539), ('♥', 3117), ('✨', 2240), ('🏻', 1498), ('✌', 1194), ('🏼', 1145), ('♀', 848), ('💙', 818)], 'cher': [('❤', 79373), ('🌈', 47795), ('♥', 34239), ('🏳', 33591), ('✨', 29715), ('💙', 21498), ('🏻', 20970), ('🌊', 20319), ('✌', 16876), ('💜', 16607)]}\n"
          ]
        }
      ],
      "source": [
        "def extract_emojis(text):\n",
        "    return [ch for ch in text if ch in emoji.EMOJI_DATA]\n",
        "\n",
        "emoji_counts = {}\n",
        "for artist, descriptions in twitter_data.items():\n",
        "    all_emojis = []\n",
        "    for desc in descriptions:\n",
        "        all_emojis.extend(extract_emojis(desc))\n",
        "    emoji_counts[artist] = Counter(all_emojis).most_common(10)\n",
        "print(emoji_counts)"
      ]
    },
    {
      "cell_type": "markdown",
      "id": "bab9b770",
      "metadata": {
        "id": "bab9b770"
      },
      "source": [
        "### Hashtags\n",
        "\n",
        "What are the ten most common hashtags by artist in the twitter descriptions?\n"
      ]
    },
    {
      "cell_type": "code",
      "execution_count": 47,
      "id": "07c396f1",
      "metadata": {
        "colab": {
          "base_uri": "https://localhost:8080/"
        },
        "id": "07c396f1",
        "outputId": "3f501b0d-b206-4d98-c1e7-4597bb32a65e"
      },
      "outputs": [
        {
          "output_type": "stream",
          "name": "stdout",
          "text": [
            "{'robynkonichiwa': [('#blacklivesmatter', 601), ('#blm', 363), ('#music', 306), ('#1', 199), ('#teamfollowback', 135), ('#edm', 111), ('#lgbtq', 89), ('#resist', 86), ('#travel', 73), ('#art', 72)], 'cher': [('#resist', 11647), ('#blm', 10462), ('#blacklivesmatter', 8146), ('#theresistance', 3505), ('#fbr', 3418), ('#resistance', 3057), ('#1', 2633), ('#voteblue', 2302), ('#lgbtq', 2072), ('#music', 1601)]}\n"
          ]
        }
      ],
      "source": [
        "def extract_hashtags(text):\n",
        "    return re.findall(r\"#\\w+\", text)\n",
        "\n",
        "hashtag_counts = {}\n",
        "for artist, descriptions in twitter_data.items():\n",
        "    all_hashtags = []\n",
        "    for desc in descriptions:\n",
        "        all_hashtags.extend(extract_hashtags(desc.lower()))\n",
        "    hashtag_counts[artist] = Counter(all_hashtags).most_common(10)\n",
        "print(hashtag_counts)"
      ]
    },
    {
      "cell_type": "markdown",
      "id": "d10f21d5",
      "metadata": {
        "id": "d10f21d5"
      },
      "source": [
        "### Song Titles\n",
        "\n",
        "What are the five most common words in song titles by artist? The song titles should be on the first line of the lyrics pages, so if you have kept the raw file contents around, you will not need to re-read the data.\n"
      ]
    },
    {
      "cell_type": "code",
      "execution_count": 48,
      "id": "bb69b36b",
      "metadata": {
        "colab": {
          "base_uri": "https://localhost:8080/"
        },
        "id": "bb69b36b",
        "outputId": "959505d0-ac26-4f45-a259-e48f1831abb2"
      },
      "outputs": [
        {
          "output_type": "stream",
          "name": "stdout",
          "text": [
            "{'cher': [('cher_hewasbeautiful', 1), ('cher_stars', 1), ('cher_iminthemiddle', 1), ('cher_taxitaxi', 1), ('cher_youvemademesoveryhappy', 1)], 'robyn': [('robyn_hangwithme114525', 1), ('robyn_doitagain', 1), ('robyn_curriculumvitae', 1), ('robyn_inmyheart', 1), ('robyn_showmelove', 1)]}\n"
          ]
        }
      ],
      "source": [
        "title_word_counts = {}\n",
        "for artist, songs in lyrics_data.items():\n",
        "    all_title_words = []\n",
        "    for song_title in songs.keys():\n",
        "        words = re.findall(r\"\\b\\w+\\b\", song_title.lower())\n",
        "        all_title_words.extend(words)\n",
        "    title_word_counts[artist] = Counter(all_title_words).most_common(5)\n",
        "print(title_word_counts)"
      ]
    },
    {
      "cell_type": "markdown",
      "id": "5dd4fd71",
      "metadata": {
        "id": "5dd4fd71"
      },
      "source": [
        "### Song Lengths\n",
        "\n",
        "For each artist, a histogram of song lengths (in terms of number of tokens). If you put the song lengths in a data frame with an artist column, matplotlib will make the plotting quite easy. An example is given to help you out.\n"
      ]
    },
    {
      "cell_type": "code",
      "execution_count": 42,
      "id": "805a1e52",
      "metadata": {
        "colab": {
          "base_uri": "https://localhost:8080/",
          "height": 591
        },
        "id": "805a1e52",
        "outputId": "2cc56620-4b60-4073-ee38-b3409e048b1c"
      },
      "outputs": [
        {
          "output_type": "execute_result",
          "data": {
            "text/plain": [
              "artist\n",
              "Artist 1    Axes(0.125,0.11;0.775x0.77)\n",
              "Artist 2    Axes(0.125,0.11;0.775x0.77)\n",
              "Name: length, dtype: object"
            ],
            "text/html": [
              "<div>\n",
              "<style scoped>\n",
              "    .dataframe tbody tr th:only-of-type {\n",
              "        vertical-align: middle;\n",
              "    }\n",
              "\n",
              "    .dataframe tbody tr th {\n",
              "        vertical-align: top;\n",
              "    }\n",
              "\n",
              "    .dataframe thead th {\n",
              "        text-align: right;\n",
              "    }\n",
              "</style>\n",
              "<table border=\"1\" class=\"dataframe\">\n",
              "  <thead>\n",
              "    <tr style=\"text-align: right;\">\n",
              "      <th></th>\n",
              "      <th>length</th>\n",
              "    </tr>\n",
              "    <tr>\n",
              "      <th>artist</th>\n",
              "      <th></th>\n",
              "    </tr>\n",
              "  </thead>\n",
              "  <tbody>\n",
              "    <tr>\n",
              "      <th>Artist 1</th>\n",
              "      <td>Axes(0.125,0.11;0.775x0.77)</td>\n",
              "    </tr>\n",
              "    <tr>\n",
              "      <th>Artist 2</th>\n",
              "      <td>Axes(0.125,0.11;0.775x0.77)</td>\n",
              "    </tr>\n",
              "  </tbody>\n",
              "</table>\n",
              "</div><br><label><b>dtype:</b> object</label>"
            ]
          },
          "metadata": {},
          "execution_count": 42
        },
        {
          "output_type": "display_data",
          "data": {
            "text/plain": [
              "<Figure size 640x480 with 1 Axes>"
            ],
            "image/png": "[encoded data removed]"
          },
          "metadata": {}
        }
      ],
      "source": [
        "num_replicates = 1000\n",
        "\n",
        "df = pd.DataFrame({\n",
        "    \"artist\" : ['Artist 1'] * num_replicates + ['Artist 2']*num_replicates,\n",
        "    \"length\" : np.concatenate((np.random.poisson(125,num_replicates),np.random.poisson(150,num_replicates)))\n",
        "})\n",
        "\n",
        "df.groupby('artist')['length'].plot(kind=\"hist\",density=True,alpha=0.5,legend=True)"
      ]
    },
    {
      "cell_type": "code",
      "source": [
        "song_lengths = []\n",
        "for artist, songs in clean_lyrics_data.items():\n",
        "    for song_title, tokens in songs.items():\n",
        "        song_lengths.append({\n",
        "            \"artist\": artist,\n",
        "            \"length\": len(tokens)\n",
        "        })\n",
        "\n",
        "df_lengths = pd.DataFrame(song_lengths)\n",
        "\n",
        "plt.figure(figsize=(10, 6))\n",
        "for artist in df_lengths[\"artist\"].unique():\n",
        "    df_lengths[df_lengths[\"artist\"] == artist][\"length\"].plot(kind=\"hist\", density=True, alpha=0.5, legend=True, label=artist)\n",
        "plt.title(\"Histogram of Song Lengths by Artist\")\n",
        "plt.xlabel(\"Number of Tokens\")\n",
        "plt.ylabel(\"Density\")\n",
        "plt.legend()\n",
        "plt.grid(True)\n",
        "plt.show()"
      ],
      "metadata": {
        "colab": {
          "base_uri": "https://localhost:8080/",
          "height": 564
        },
        "id": "1FLPH-1SXROB",
        "outputId": "2eb56051-2870-4895-f26d-1caef7ab7de9"
      },
      "id": "1FLPH-1SXROB",
      "execution_count": 41,
      "outputs": [
        {
          "output_type": "display_data",
          "data": {
            "text/plain": [
              "<Figure size 1000x600 with 1 Axes>"
            ],
            "image/png": "[encoded data removed]"
          },
          "metadata": {}
        }
      ]
    },
    {
      "cell_type": "markdown",
      "id": "8fde9ebb",
      "metadata": {
        "id": "8fde9ebb"
      },
      "source": [
        "Since the lyrics may be stored with carriage returns or tabs, it may be useful to have a function that can collapse whitespace, using regular expressions, and be used for splitting.\n",
        "\n",
        "Q: What does the regular expression `'\\s+'` match on?\n",
        "\n",
        "A: The regular expression \\s+ matches one or more whitespace characters."
      ]
    },
    {
      "cell_type": "code",
      "execution_count": 44,
      "id": "f0e34516",
      "metadata": {
        "id": "f0e34516"
      },
      "outputs": [],
      "source": [
        "collapse_whitespace = re.compile(r'\\s+')\n",
        "\n",
        "def tokenize_lyrics(lyric) :\n",
        "    \"\"\"strip and split on whitespace\"\"\"\n",
        "    return([item.lower() for item in collapse_whitespace.split(lyric)])"
      ]
    },
    {
      "cell_type": "code",
      "execution_count": 45,
      "id": "2294c440",
      "metadata": {
        "colab": {
          "base_uri": "https://localhost:8080/",
          "height": 564
        },
        "id": "2294c440",
        "outputId": "9a356b31-9bf5-434f-c6ff-3b8db53c0f75"
      },
      "outputs": [
        {
          "output_type": "display_data",
          "data": {
            "text/plain": [
              "<Figure size 1000x600 with 1 Axes>"
            ],
            "image/png": "[encoded data removed]"
          },
          "metadata": {}
        }
      ],
      "source": [
        "# Your lyric length comparison chart here.\n",
        "song_lengths = []\n",
        "\n",
        "for artist, songs in lyrics_data.items():\n",
        "    for title, raw_lyrics in songs.items():\n",
        "        tokens = tokenize_lyrics(raw_lyrics)\n",
        "        song_lengths.append({\n",
        "            \"artist\": artist,\n",
        "            \"length\": len(tokens)\n",
        "        })\n",
        "\n",
        "df_lengths = pd.DataFrame(song_lengths)\n",
        "\n",
        "plt.figure(figsize=(10, 6))\n",
        "for artist in df_lengths[\"artist\"].unique():\n",
        "    df_lengths[df_lengths[\"artist\"] == artist][\"length\"].plot(kind=\"hist\", density=True, alpha=0.5, legend=True, label=artist)\n",
        "plt.title(\"Histogram of Song Lengths by Artist\")\n",
        "plt.xlabel(\"Number of Tokens\")\n",
        "plt.ylabel(\"Density\")\n",
        "plt.grid(True)\n",
        "plt.legend()\n",
        "plt.show()"
      ]
    }
  ],
  "metadata": {
    "kernelspec": {
      "display_name": "Python 3 (ipykernel)",
      "language": "python",
      "name": "python3"
    },
    "language_info": {
      "codemirror_mode": {
        "name": "ipython",
        "version": 3
      },
      "file_extension": ".py",
      "mimetype": "text/x-python",
      "name": "python",
      "nbconvert_exporter": "python",
      "pygments_lexer": "ipython3",
      "version": "3.8.8"
    },
    "colab": {
      "provenance": []
    }
  },
  "nbformat": 4,
  "nbformat_minor": 5
}